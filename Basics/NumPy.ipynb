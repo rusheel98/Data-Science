{
  "nbformat": 4,
  "nbformat_minor": 0,
  "metadata": {
    "colab": {
      "name": "NumPy.ipynb",
      "provenance": [],
      "collapsed_sections": [
        "T4soUdrebw6R",
        "uHYZFguBb7_D",
        "xyy4Xl9mcF-5",
        "4j6aLdEccRMw",
        "NdCC0Cq_cXMF",
        "FTo5b571cclK",
        "jIPGdSrScoDy",
        "zbSad_yLdePq",
        "LUVaEe5-DEus"
      ]
    },
    "kernelspec": {
      "name": "python3",
      "display_name": "Python 3"
    }
  },
  "cells": [
    {
      "cell_type": "markdown",
      "metadata": {
        "id": "GAOv6jMkX2XS",
        "colab_type": "text"
      },
      "source": [
        "#NumPy"
      ]
    },
    {
      "cell_type": "markdown",
      "metadata": {
        "id": "5fIjzsa3bjBP",
        "colab_type": "text"
      },
      "source": [
        "#Importing Numpy Module"
      ]
    },
    {
      "cell_type": "code",
      "metadata": {
        "id": "rtjOqlu_X8SZ",
        "colab_type": "code",
        "colab": {}
      },
      "source": [
        "import numpy as np"
      ],
      "execution_count": 0,
      "outputs": []
    },
    {
      "cell_type": "markdown",
      "metadata": {
        "id": "T4soUdrebw6R",
        "colab_type": "text"
      },
      "source": [
        "#Create a numpy array"
      ]
    },
    {
      "cell_type": "code",
      "metadata": {
        "id": "LmOMuY0sYBBn",
        "colab_type": "code",
        "colab": {}
      },
      "source": [
        "X = np.array([1,2,3])"
      ],
      "execution_count": 0,
      "outputs": []
    },
    {
      "cell_type": "code",
      "metadata": {
        "id": "2sWTenEjYJAI",
        "colab_type": "code",
        "outputId": "78af612a-3c2f-40cf-e879-88e50b61782a",
        "colab": {
          "base_uri": "https://localhost:8080/",
          "height": 0
        }
      },
      "source": [
        "print(X)"
      ],
      "execution_count": 3,
      "outputs": [
        {
          "output_type": "stream",
          "text": [
            "[1 2 3]\n"
          ],
          "name": "stdout"
        }
      ]
    },
    {
      "cell_type": "markdown",
      "metadata": {
        "id": "uHYZFguBb7_D",
        "colab_type": "text"
      },
      "source": [
        "#Type of numpy array"
      ]
    },
    {
      "cell_type": "code",
      "metadata": {
        "id": "BuWNCN7pYKxb",
        "colab_type": "code",
        "outputId": "624318e8-4363-4440-fdc8-6b072fb609f7",
        "colab": {
          "base_uri": "https://localhost:8080/",
          "height": 0
        }
      },
      "source": [
        "l = [2,3,4]\n",
        "\n",
        "Y = np.asarray(l)\n",
        "type(Y)"
      ],
      "execution_count": 4,
      "outputs": [
        {
          "output_type": "execute_result",
          "data": {
            "text/plain": [
              "numpy.ndarray"
            ]
          },
          "metadata": {
            "tags": []
          },
          "execution_count": 4
        }
      ]
    },
    {
      "cell_type": "markdown",
      "metadata": {
        "id": "xyy4Xl9mcF-5",
        "colab_type": "text"
      },
      "source": [
        "#Creating a numpy array of float elements"
      ]
    },
    {
      "cell_type": "code",
      "metadata": {
        "id": "NuyuTrcTYZJm",
        "colab_type": "code",
        "colab": {}
      },
      "source": [
        "Y = np.asarray(l, float)"
      ],
      "execution_count": 0,
      "outputs": []
    },
    {
      "cell_type": "code",
      "metadata": {
        "id": "BnNxdLCWYnj0",
        "colab_type": "code",
        "outputId": "cdf28511-deb2-43e8-cdb3-ba928816dc12",
        "colab": {
          "base_uri": "https://localhost:8080/",
          "height": 0
        }
      },
      "source": [
        "print(Y)"
      ],
      "execution_count": 6,
      "outputs": [
        {
          "output_type": "stream",
          "text": [
            "[2. 3. 4.]\n"
          ],
          "name": "stdout"
        }
      ]
    },
    {
      "cell_type": "markdown",
      "metadata": {
        "id": "4j6aLdEccRMw",
        "colab_type": "text"
      },
      "source": [
        "#Shape of numpy array"
      ]
    },
    {
      "cell_type": "code",
      "metadata": {
        "id": "jq_iQWCLYpWC",
        "colab_type": "code",
        "outputId": "5a88c2dc-bfc1-4141-9cb8-e2db09a7e419",
        "colab": {
          "base_uri": "https://localhost:8080/",
          "height": 0
        }
      },
      "source": [
        "Y.shape"
      ],
      "execution_count": 7,
      "outputs": [
        {
          "output_type": "execute_result",
          "data": {
            "text/plain": [
              "(3,)"
            ]
          },
          "metadata": {
            "tags": []
          },
          "execution_count": 7
        }
      ]
    },
    {
      "cell_type": "markdown",
      "metadata": {
        "id": "NdCC0Cq_cXMF",
        "colab_type": "text"
      },
      "source": [
        "#To know more about numpy array"
      ]
    },
    {
      "cell_type": "code",
      "metadata": {
        "id": "X8nReJFraKih",
        "colab_type": "code",
        "colab": {}
      },
      "source": [
        "np.array?"
      ],
      "execution_count": 0,
      "outputs": []
    },
    {
      "cell_type": "markdown",
      "metadata": {
        "id": "FTo5b571cclK",
        "colab_type": "text"
      },
      "source": [
        "#creating np array of dimension (2,3)"
      ]
    },
    {
      "cell_type": "code",
      "metadata": {
        "id": "pLpYuNVdaTf1",
        "colab_type": "code",
        "colab": {}
      },
      "source": [
        "X = np.array([[1,2,3],[4,5,6]])"
      ],
      "execution_count": 0,
      "outputs": []
    },
    {
      "cell_type": "code",
      "metadata": {
        "id": "WFbKAAJXawb5",
        "colab_type": "code",
        "outputId": "03b95504-8ec1-4f3c-de1b-582b2dd74f04",
        "colab": {
          "base_uri": "https://localhost:8080/",
          "height": 0
        }
      },
      "source": [
        "X.shape"
      ],
      "execution_count": 10,
      "outputs": [
        {
          "output_type": "execute_result",
          "data": {
            "text/plain": [
              "(2, 3)"
            ]
          },
          "metadata": {
            "tags": []
          },
          "execution_count": 10
        }
      ]
    },
    {
      "cell_type": "code",
      "metadata": {
        "id": "lwt8Eb4qazox",
        "colab_type": "code",
        "outputId": "abde1a8f-a6a1-4c0c-c050-f450f8c80efc",
        "colab": {
          "base_uri": "https://localhost:8080/",
          "height": 0
        }
      },
      "source": [
        "print(X)"
      ],
      "execution_count": 11,
      "outputs": [
        {
          "output_type": "stream",
          "text": [
            "[[1 2 3]\n",
            " [4 5 6]]\n"
          ],
          "name": "stdout"
        }
      ]
    },
    {
      "cell_type": "markdown",
      "metadata": {
        "id": "jIPGdSrScoDy",
        "colab_type": "text"
      },
      "source": [
        "#Accessing elements in np array"
      ]
    },
    {
      "cell_type": "code",
      "metadata": {
        "id": "K5vtDKpYa2Lr",
        "colab_type": "code",
        "outputId": "015cf96f-cc03-4b8b-a71e-409cae1f9cdf",
        "colab": {
          "base_uri": "https://localhost:8080/",
          "height": 0
        }
      },
      "source": [
        "X[0,0]"
      ],
      "execution_count": 12,
      "outputs": [
        {
          "output_type": "execute_result",
          "data": {
            "text/plain": [
              "1"
            ]
          },
          "metadata": {
            "tags": []
          },
          "execution_count": 12
        }
      ]
    },
    {
      "cell_type": "code",
      "metadata": {
        "id": "B1hF4F3WbJKU",
        "colab_type": "code",
        "outputId": "97f3e937-6abc-4a19-df6c-735601fd11d9",
        "colab": {
          "base_uri": "https://localhost:8080/",
          "height": 0
        }
      },
      "source": [
        "X[1,0]"
      ],
      "execution_count": 13,
      "outputs": [
        {
          "output_type": "execute_result",
          "data": {
            "text/plain": [
              "4"
            ]
          },
          "metadata": {
            "tags": []
          },
          "execution_count": 13
        }
      ]
    },
    {
      "cell_type": "code",
      "metadata": {
        "id": "RdPnu8LxbLq2",
        "colab_type": "code",
        "outputId": "907478ee-189e-4494-b9dc-5352252688a6",
        "colab": {
          "base_uri": "https://localhost:8080/",
          "height": 0
        }
      },
      "source": [
        "X[1,1:]"
      ],
      "execution_count": 14,
      "outputs": [
        {
          "output_type": "execute_result",
          "data": {
            "text/plain": [
              "array([5, 6])"
            ]
          },
          "metadata": {
            "tags": []
          },
          "execution_count": 14
        }
      ]
    },
    {
      "cell_type": "markdown",
      "metadata": {
        "id": "XsrA1ewec4ln",
        "colab_type": "text"
      },
      "source": [
        "#Creating an array of (4,5) dimension with all zeroes"
      ]
    },
    {
      "cell_type": "code",
      "metadata": {
        "id": "gCSYZhXkbS3b",
        "colab_type": "code",
        "colab": {}
      },
      "source": [
        "X = np.zeros((4,5))"
      ],
      "execution_count": 0,
      "outputs": []
    },
    {
      "cell_type": "code",
      "metadata": {
        "id": "NbERnG_tdHxV",
        "colab_type": "code",
        "outputId": "637f4515-1836-4133-a925-a8abe17934c4",
        "colab": {
          "base_uri": "https://localhost:8080/",
          "height": 85
        }
      },
      "source": [
        "print(X)"
      ],
      "execution_count": 16,
      "outputs": [
        {
          "output_type": "stream",
          "text": [
            "[[0. 0. 0. 0. 0.]\n",
            " [0. 0. 0. 0. 0.]\n",
            " [0. 0. 0. 0. 0.]\n",
            " [0. 0. 0. 0. 0.]]\n"
          ],
          "name": "stdout"
        }
      ]
    },
    {
      "cell_type": "markdown",
      "metadata": {
        "id": "zbSad_yLdePq",
        "colab_type": "text"
      },
      "source": [
        "#Creating Identity Matrix"
      ]
    },
    {
      "cell_type": "code",
      "metadata": {
        "id": "JKEh56ASdMVw",
        "colab_type": "code",
        "outputId": "74554026-ae69-41b8-c488-9281fd6f460e",
        "colab": {
          "base_uri": "https://localhost:8080/",
          "height": 0
        }
      },
      "source": [
        "X = np.eye(4,4)\n",
        "print(X)"
      ],
      "execution_count": 17,
      "outputs": [
        {
          "output_type": "stream",
          "text": [
            "[[1. 0. 0. 0.]\n",
            " [0. 1. 0. 0.]\n",
            " [0. 0. 1. 0.]\n",
            " [0. 0. 0. 1.]]\n"
          ],
          "name": "stdout"
        }
      ]
    },
    {
      "cell_type": "markdown",
      "metadata": {
        "id": "LUVaEe5-DEus",
        "colab_type": "text"
      },
      "source": [
        "#Creating a matrix with random values normalized between 0 & 1"
      ]
    },
    {
      "cell_type": "code",
      "metadata": {
        "id": "th_RcoiqdkVu",
        "colab_type": "code",
        "colab": {}
      },
      "source": [
        "X = np.random.random((4,5))"
      ],
      "execution_count": 0,
      "outputs": []
    },
    {
      "cell_type": "code",
      "metadata": {
        "id": "dG0KhbrRDXfw",
        "colab_type": "code",
        "outputId": "035fa6e1-9fe9-4347-e839-5eb3f46e67ce",
        "colab": {
          "base_uri": "https://localhost:8080/",
          "height": 0
        }
      },
      "source": [
        "print(X)"
      ],
      "execution_count": 19,
      "outputs": [
        {
          "output_type": "stream",
          "text": [
            "[[0.48767321 0.69185107 0.73698116 0.21690773 0.259795  ]\n",
            " [0.40052935 0.45311929 0.12981354 0.11331242 0.02070426]\n",
            " [0.6300539  0.43030465 0.05530679 0.1232643  0.67460437]\n",
            " [0.63123316 0.0383946  0.78241453 0.55165161 0.54357856]]\n"
          ],
          "name": "stdout"
        }
      ]
    },
    {
      "cell_type": "markdown",
      "metadata": {
        "id": "0uzgkhV6DnYW",
        "colab_type": "text"
      },
      "source": [
        "#Transposing a Matrix"
      ]
    },
    {
      "cell_type": "code",
      "metadata": {
        "id": "8geOig4YDZ0G",
        "colab_type": "code",
        "outputId": "98b8aad3-de25-471d-badb-a3adc262e119",
        "colab": {
          "base_uri": "https://localhost:8080/",
          "height": 102
        }
      },
      "source": [
        "Z = X.T\n",
        "print(Z)"
      ],
      "execution_count": 20,
      "outputs": [
        {
          "output_type": "stream",
          "text": [
            "[[0.48767321 0.40052935 0.6300539  0.63123316]\n",
            " [0.69185107 0.45311929 0.43030465 0.0383946 ]\n",
            " [0.73698116 0.12981354 0.05530679 0.78241453]\n",
            " [0.21690773 0.11331242 0.1232643  0.55165161]\n",
            " [0.259795   0.02070426 0.67460437 0.54357856]]\n"
          ],
          "name": "stdout"
        }
      ]
    },
    {
      "cell_type": "markdown",
      "metadata": {
        "id": "aEd1r30UG4_A",
        "colab_type": "text"
      },
      "source": [
        "#Reshaping a Matrix"
      ]
    },
    {
      "cell_type": "code",
      "metadata": {
        "id": "TejDDdCWDu0f",
        "colab_type": "code",
        "colab": {}
      },
      "source": [
        "Y = X.reshape(1,20)"
      ],
      "execution_count": 0,
      "outputs": []
    },
    {
      "cell_type": "code",
      "metadata": {
        "id": "1AR7nX6XHE2V",
        "colab_type": "code",
        "outputId": "a0120677-44ca-4ce0-e95e-1e30f0f20abb",
        "colab": {
          "base_uri": "https://localhost:8080/",
          "height": 85
        }
      },
      "source": [
        "print(Y)"
      ],
      "execution_count": 22,
      "outputs": [
        {
          "output_type": "stream",
          "text": [
            "[[0.48767321 0.69185107 0.73698116 0.21690773 0.259795   0.40052935\n",
            "  0.45311929 0.12981354 0.11331242 0.02070426 0.6300539  0.43030465\n",
            "  0.05530679 0.1232643  0.67460437 0.63123316 0.0383946  0.78241453\n",
            "  0.55165161 0.54357856]]\n"
          ],
          "name": "stdout"
        }
      ]
    },
    {
      "cell_type": "markdown",
      "metadata": {
        "id": "FJDlnOF3HW9w",
        "colab_type": "text"
      },
      "source": [
        "#Creating vectors of our own - similar to Range() function in python"
      ]
    },
    {
      "cell_type": "code",
      "metadata": {
        "id": "LMDITewjHKA6",
        "colab_type": "code",
        "outputId": "7e3febe6-f979-4187-b70e-3c980b5491e2",
        "colab": {
          "base_uri": "https://localhost:8080/",
          "height": 34
        }
      },
      "source": [
        "A = np.arange(5)\n",
        "print(A)"
      ],
      "execution_count": 23,
      "outputs": [
        {
          "output_type": "stream",
          "text": [
            "[0 1 2 3 4]\n"
          ],
          "name": "stdout"
        }
      ]
    },
    {
      "cell_type": "code",
      "metadata": {
        "id": "FSYF5yIaSlfl",
        "colab_type": "code",
        "colab": {}
      },
      "source": [
        "B = np.arange(5)"
      ],
      "execution_count": 0,
      "outputs": []
    },
    {
      "cell_type": "markdown",
      "metadata": {
        "id": "E0WIFfmrTtm6",
        "colab_type": "text"
      },
      "source": [
        "since, A and B are vectors we can add, subtract and point wise multiply them."
      ]
    },
    {
      "cell_type": "code",
      "metadata": {
        "id": "9HF8QQjrTPRS",
        "colab_type": "code",
        "outputId": "9b4b55ce-6b2b-4561-b256-41ca4defacab",
        "colab": {
          "base_uri": "https://localhost:8080/",
          "height": 34
        }
      },
      "source": [
        "C = A + B\n",
        "D = A - B\n",
        "E = A * B\n",
        "\n",
        "print(C , D , E)"
      ],
      "execution_count": 25,
      "outputs": [
        {
          "output_type": "stream",
          "text": [
            "[0 2 4 6 8] [0 0 0 0 0] [ 0  1  4  9 16]\n"
          ],
          "name": "stdout"
        }
      ]
    },
    {
      "cell_type": "markdown",
      "metadata": {
        "id": "_AWBy7yDV-rA",
        "colab_type": "text"
      },
      "source": [
        "#Broadcasting"
      ]
    },
    {
      "cell_type": "code",
      "metadata": {
        "id": "JRlfseSfUN9C",
        "colab_type": "code",
        "outputId": "0281b518-7786-48b3-9a4f-00435246def9",
        "colab": {
          "base_uri": "https://localhost:8080/",
          "height": 34
        }
      },
      "source": [
        "F = A + 1\n",
        "print(F)"
      ],
      "execution_count": 26,
      "outputs": [
        {
          "output_type": "stream",
          "text": [
            "[1 2 3 4 5]\n"
          ],
          "name": "stdout"
        }
      ]
    },
    {
      "cell_type": "markdown",
      "metadata": {
        "id": "BHLL8i0RY0W5",
        "colab_type": "text"
      },
      "source": [
        "#one way to get integer values while using random"
      ]
    },
    {
      "cell_type": "code",
      "metadata": {
        "id": "O95JFE1LYR5z",
        "colab_type": "code",
        "outputId": "d65918e0-035d-414f-f835-084b1baf7320",
        "colab": {
          "base_uri": "https://localhost:8080/",
          "height": 51
        }
      },
      "source": [
        "x = np.floor(np.random.random((2,3))*10)\n",
        "print(x)"
      ],
      "execution_count": 27,
      "outputs": [
        {
          "output_type": "stream",
          "text": [
            "[[1. 8. 1.]\n",
            " [6. 0. 3.]]\n"
          ],
          "name": "stdout"
        }
      ]
    },
    {
      "cell_type": "markdown",
      "metadata": {
        "id": "9AMwFKSxZg3_",
        "colab_type": "text"
      },
      "source": [
        "#Inner Product - similar to dot product of vectors"
      ]
    },
    {
      "cell_type": "code",
      "metadata": {
        "id": "lr8MOm8dZRrA",
        "colab_type": "code",
        "outputId": "c9b947ce-8b0b-45ec-9fd6-e746fe948a14",
        "colab": {
          "base_uri": "https://localhost:8080/",
          "height": 34
        }
      },
      "source": [
        "u = [2, 3, 4]\n",
        "v = [-1, 0, 1]\n",
        "\n",
        "w = np.inner(u, v)\n",
        "\n",
        "print(w)"
      ],
      "execution_count": 28,
      "outputs": [
        {
          "output_type": "stream",
          "text": [
            "2\n"
          ],
          "name": "stdout"
        }
      ]
    },
    {
      "cell_type": "markdown",
      "metadata": {
        "id": "fCJxG4nibEwY",
        "colab_type": "text"
      },
      "source": [
        "#Outer Product"
      ]
    },
    {
      "cell_type": "code",
      "metadata": {
        "id": "qjDLPWhzZ3co",
        "colab_type": "code",
        "outputId": "688bd68c-c12c-40aa-cc13-ada57539b74e",
        "colab": {
          "base_uri": "https://localhost:8080/",
          "height": 68
        }
      },
      "source": [
        "w = np.outer(u, v)\n",
        "print(w)"
      ],
      "execution_count": 29,
      "outputs": [
        {
          "output_type": "stream",
          "text": [
            "[[-2  0  2]\n",
            " [-3  0  3]\n",
            " [-4  0  4]]\n"
          ],
          "name": "stdout"
        }
      ]
    },
    {
      "cell_type": "markdown",
      "metadata": {
        "id": "JWrmYCwKbhnT",
        "colab_type": "text"
      },
      "source": [
        "#Dot Product"
      ]
    },
    {
      "cell_type": "code",
      "metadata": {
        "id": "Uusjo1e5bTXg",
        "colab_type": "code",
        "outputId": "e05dfba0-39f4-41c4-9929-15891b4bff66",
        "colab": {
          "base_uri": "https://localhost:8080/",
          "height": 119
        }
      },
      "source": [
        "A = np.ones((2, 3))\n",
        "B = np.ones((3, 2))\n",
        "\n",
        "print(A , B)\n",
        "np.dot(A, B)"
      ],
      "execution_count": 30,
      "outputs": [
        {
          "output_type": "stream",
          "text": [
            "[[1. 1. 1.]\n",
            " [1. 1. 1.]] [[1. 1.]\n",
            " [1. 1.]\n",
            " [1. 1.]]\n"
          ],
          "name": "stdout"
        },
        {
          "output_type": "execute_result",
          "data": {
            "text/plain": [
              "array([[3., 3.],\n",
              "       [3., 3.]])"
            ]
          },
          "metadata": {
            "tags": []
          },
          "execution_count": 30
        }
      ]
    },
    {
      "cell_type": "markdown",
      "metadata": {
        "id": "HDKhM-uHdYB2",
        "colab_type": "text"
      },
      "source": [
        "#Basic Operations"
      ]
    },
    {
      "cell_type": "code",
      "metadata": {
        "id": "n8itKFUUb8IQ",
        "colab_type": "code",
        "colab": {}
      },
      "source": [
        "A = np.ones((2,3))"
      ],
      "execution_count": 0,
      "outputs": []
    },
    {
      "cell_type": "code",
      "metadata": {
        "id": "eesn1GJ9dezS",
        "colab_type": "code",
        "outputId": "f8e65a0b-28bd-490d-acae-474277cc9a39",
        "colab": {
          "base_uri": "https://localhost:8080/",
          "height": 34
        }
      },
      "source": [
        "A.sum()"
      ],
      "execution_count": 32,
      "outputs": [
        {
          "output_type": "execute_result",
          "data": {
            "text/plain": [
              "6.0"
            ]
          },
          "metadata": {
            "tags": []
          },
          "execution_count": 32
        }
      ]
    },
    {
      "cell_type": "code",
      "metadata": {
        "id": "Qjfn7LdUdh3G",
        "colab_type": "code",
        "outputId": "4cc3fcc2-961d-4246-99e2-d05dbd2d0aa2",
        "colab": {
          "base_uri": "https://localhost:8080/",
          "height": 34
        }
      },
      "source": [
        "A.sum(axis = 0)"
      ],
      "execution_count": 33,
      "outputs": [
        {
          "output_type": "execute_result",
          "data": {
            "text/plain": [
              "array([2., 2., 2.])"
            ]
          },
          "metadata": {
            "tags": []
          },
          "execution_count": 33
        }
      ]
    },
    {
      "cell_type": "code",
      "metadata": {
        "id": "Kcvy00zVdldm",
        "colab_type": "code",
        "outputId": "dc28f663-de00-422b-d78e-20dbf8c6705a",
        "colab": {
          "base_uri": "https://localhost:8080/",
          "height": 34
        }
      },
      "source": [
        "A.sum(axis = 1)"
      ],
      "execution_count": 34,
      "outputs": [
        {
          "output_type": "execute_result",
          "data": {
            "text/plain": [
              "array([3., 3.])"
            ]
          },
          "metadata": {
            "tags": []
          },
          "execution_count": 34
        }
      ]
    },
    {
      "cell_type": "code",
      "metadata": {
        "id": "pOr3UKM4dnz8",
        "colab_type": "code",
        "outputId": "b56343d6-5f29-44e5-f909-21cf94c790b6",
        "colab": {
          "base_uri": "https://localhost:8080/",
          "height": 34
        }
      },
      "source": [
        "A.max()"
      ],
      "execution_count": 35,
      "outputs": [
        {
          "output_type": "execute_result",
          "data": {
            "text/plain": [
              "1.0"
            ]
          },
          "metadata": {
            "tags": []
          },
          "execution_count": 35
        }
      ]
    }
  ]
}